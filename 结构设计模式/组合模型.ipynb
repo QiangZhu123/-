{
 "cells": [
  {
   "cell_type": "code",
   "execution_count": 6,
   "id": "5e94ff33",
   "metadata": {},
   "outputs": [],
   "source": [
    "#菜单，对象的属性结构，递归处理整棵树\n",
    "#将抽象部分(业务功能)与实现部分(平台实现)分离，使它们都可以独立地变化\n",
    "#将对象  组合  成  树形结构  以表示”部分-整体“的层次结构。\n",
    "#Composite使得用户对  单个对象  和  组合对象  的使用具有一致性\n",
    "#(稳定)。\n",
    "#一对多 ----》》》一对一的模式转化\n",
    "#层序遍历的树形结构\n",
    "class Component:\n",
    "    \n",
    "    def process(self):\n",
    "        #核心函数，表示当前节点应该做哪些工作\n",
    "        pass\n",
    "class TreeNode(Component):\n",
    "    def __init__(self,name):\n",
    "        self.name = name\n",
    "        self.next_level=set()\n",
    "    def process(self):\n",
    "        print('do node work')\n",
    "        for a in self.next_level:\n",
    "            a.process()\n",
    "    def add_node(self,node):\n",
    "        self.next_level.add(node)\n",
    "    def remove_node(self,node):\n",
    "        self.next_level.discard(node)\n",
    "class LeafNode(Component):\n",
    "    def __init__(self,name):\n",
    "        self.name = name\n",
    "    def process(self):\n",
    "        print('do work')\n"
   ]
  },
  {
   "cell_type": "code",
   "execution_count": 7,
   "id": "88bad505",
   "metadata": {},
   "outputs": [],
   "source": [
    "root=TreeNode('1')\n",
    "node1=TreeNode('2')\n",
    "node2=TreeNode('3')"
   ]
  },
  {
   "cell_type": "code",
   "execution_count": 8,
   "id": "13d95e83",
   "metadata": {},
   "outputs": [],
   "source": [
    "root.add_node(node1)\n",
    "root.add_node(node2)"
   ]
  },
  {
   "cell_type": "code",
   "execution_count": 9,
   "id": "ec5056da",
   "metadata": {},
   "outputs": [],
   "source": [
    "leaf1 = LeafNode('4')\n",
    "node1.add_node(leaf1)"
   ]
  },
  {
   "cell_type": "code",
   "execution_count": 10,
   "id": "bacc56ed",
   "metadata": {},
   "outputs": [
    {
     "name": "stdout",
     "output_type": "stream",
     "text": [
      "do node work\n",
      "do node work\n",
      "do work\n",
      "do node work\n"
     ]
    }
   ],
   "source": [
    "root.process()"
   ]
  },
  {
   "cell_type": "code",
   "execution_count": 1,
   "id": "bcd9e634",
   "metadata": {},
   "outputs": [],
   "source": [
    "from abc import ABC, abstractmethod\n",
    "\n",
    "\n",
    "class Component(ABC):\n",
    "    \"\"\"\n",
    "    Component定义了组合中所有对象的通用操作\n",
    "    \"\"\"\n",
    "\n",
    "    @abstractmethod\n",
    "    def get_size(self) -> int:\n",
    "        pass\n",
    "\n",
    "\n",
    "class File(Component):\n",
    "    \"\"\"\n",
    "    File是叶子节点，它不能有子节点\n",
    "    \"\"\"\n",
    "\n",
    "    def __init__(self, name: str, size: int):\n",
    "        self.name = name\n",
    "        self.size = size\n",
    "\n",
    "    def get_size(self) -> int:\n",
    "        return self.size\n",
    "\n",
    "\n",
    "class Directory(Component):\n",
    "    \"\"\"\n",
    "    Directory是容器，可以包含文件或其他目录\n",
    "    \"\"\"\n",
    "\n",
    "    def __init__(self, name: str):\n",
    "        self.name = name\n",
    "        self.children = []\n",
    "\n",
    "    def add(self, component: Component):\n",
    "        self.children.append(component)\n",
    "\n",
    "    def remove(self, component: Component):\n",
    "        self.children.remove(component)\n",
    "\n",
    "    def get_size(self) -> int:\n",
    "        size = 0\n",
    "        for child in self.children:\n",
    "            size += child.get_size()\n",
    "        return size\n"
   ]
  },
  {
   "cell_type": "code",
   "execution_count": 2,
   "id": "7a3a354a",
   "metadata": {},
   "outputs": [
    {
     "name": "stdout",
     "output_type": "stream",
     "text": [
      "Total size: 100\n"
     ]
    }
   ],
   "source": [
    "# 创建一个目录\n",
    "root = Directory(\"root\")\n",
    "\n",
    "# 在目录中添加文件和子目录\n",
    "root.add(File(\"file1.txt\", 10))\n",
    "root.add(File(\"file2.txt\", 20))\n",
    "\n",
    "dir1 = Directory(\"dir1\")\n",
    "dir1.add(File(\"file3.txt\", 30))\n",
    "dir1.add(File(\"file4.txt\", 40))\n",
    "\n",
    "root.add(dir1)\n",
    "\n",
    "# 计算总大小\n",
    "total_size = root.get_size()\n",
    "\n",
    "print(f\"Total size: {total_size}\")\n"
   ]
  },
  {
   "cell_type": "code",
   "execution_count": null,
   "id": "6bb82f58",
   "metadata": {},
   "outputs": [],
   "source": []
  }
 ],
 "metadata": {
  "kernelspec": {
   "display_name": "Python 3 (ipykernel)",
   "language": "python",
   "name": "python3"
  },
  "language_info": {
   "codemirror_mode": {
    "name": "ipython",
    "version": 3
   },
   "file_extension": ".py",
   "mimetype": "text/x-python",
   "name": "python",
   "nbconvert_exporter": "python",
   "pygments_lexer": "ipython3",
   "version": "3.10.0"
  }
 },
 "nbformat": 4,
 "nbformat_minor": 5
}
