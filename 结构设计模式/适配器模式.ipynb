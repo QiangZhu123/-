{
 "cells": [
  {
   "cell_type": "code",
   "execution_count": 4,
   "id": "e69e71dd",
   "metadata": {},
   "outputs": [],
   "source": [
    "#转化接口，但是不改变接口\n",
    "#所以他是用来处理接口不一致的问题\n",
    "class Speaker:\n",
    "    \n",
    "    def __init__(self):\n",
    "        self.word='lockyt'\n",
    "    def func(self):\n",
    "        return self.word\n",
    "class SpeackerAdapter:\n",
    "    def __init__(self,worker):\n",
    "        self.worker=worker\n",
    "    \n",
    "    def speakfunc(self):\n",
    "        #其他增益措施\n",
    "        return self.worker.func()"
   ]
  },
  {
   "cell_type": "code",
   "execution_count": 5,
   "id": "a0983a1d",
   "metadata": {},
   "outputs": [
    {
     "data": {
      "text/plain": [
       "'lockyt'"
      ]
     },
     "execution_count": 5,
     "metadata": {},
     "output_type": "execute_result"
    }
   ],
   "source": [
    "worker = Speaker()\n",
    "test = SpeackerAdapter(worker)\n",
    "test.speakfunc()"
   ]
  },
  {
   "cell_type": "code",
   "execution_count": null,
   "id": "16258a9a",
   "metadata": {},
   "outputs": [],
   "source": []
  }
 ],
 "metadata": {
  "kernelspec": {
   "display_name": "Python 3 (ipykernel)",
   "language": "python",
   "name": "python3"
  },
  "language_info": {
   "codemirror_mode": {
    "name": "ipython",
    "version": 3
   },
   "file_extension": ".py",
   "mimetype": "text/x-python",
   "name": "python",
   "nbconvert_exporter": "python",
   "pygments_lexer": "ipython3",
   "version": "3.10.0"
  }
 },
 "nbformat": 4,
 "nbformat_minor": 5
}
