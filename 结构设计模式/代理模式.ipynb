{
 "cells": [
  {
   "cell_type": "code",
   "execution_count": 1,
   "id": "3f737203",
   "metadata": {},
   "outputs": [],
   "source": [
    "#代理类作为中介，访问抽象类的方法，保护目标对象\n",
    "#为其他对象提供一种代理以控制(隔离，使用接口)对这对象的访问\n",
    "#并不一定要求保持接口完整的一致性，只要能够实现间接控制，有时候损及一些透明性是可以接受的\n",
    "\n",
    "#代理模式通常使用组合（聚合）的方式实现，而不是继承\n",
    "#代理模式是在访问对象时加入 “控制”，而装饰器模式是在不改变原有对象结构的情况下增加额外的职责。"
   ]
  },
  {
   "cell_type": "code",
   "execution_count": 2,
   "id": "a1dbbec2",
   "metadata": {},
   "outputs": [],
   "source": [
    "from abc import ABC, abstractmethod\n",
    "\n",
    "# 定义公共接口\n",
    "class Subject(ABC):\n",
    "    @abstractmethod\n",
    "    def request(self):\n",
    "        pass\n",
    "\n",
    "# 定义真实对象\n",
    "class RealSubject(Subject):\n",
    "    def request(self):\n",
    "        print(\"RealSubject: Handling request.\")\n",
    "\n",
    "# 定义代理对象\n",
    "class Proxy(Subject):\n",
    "    def __init__(self):\n",
    "        self._real_subject = RealSubject()\n",
    "\n",
    "    def request(self):\n",
    "        #加入控制，接口一定要和实例是一样的\n",
    "        \n",
    "        print(\"Proxy: Logging request.\")\n",
    "        self._real_subject.request()\n",
    "        print(\"Proxy: Cleaning up.\")\n"
   ]
  },
  {
   "cell_type": "code",
   "execution_count": 4,
   "id": "67cf5ddc",
   "metadata": {},
   "outputs": [],
   "source": [
    "class Target:\n",
    "    def request(self):\n",
    "        pass\n",
    "\n",
    "class Adaptee:\n",
    "    def specific_request(self):\n",
    "        pass\n",
    "\n",
    "class Adapter(Target):\n",
    "    def __init__(self, adaptee):\n",
    "        self.adaptee = adaptee\n",
    "\n",
    "    def request(self):\n",
    "        self.adaptee.specific_request()\n",
    "\n",
    "\n",
    "adaptee = Adaptee()\n",
    "adapter = Adapter(adaptee)\n",
    "adapter.request()\n"
   ]
  },
  {
   "cell_type": "code",
   "execution_count": null,
   "id": "5f6e6ce8",
   "metadata": {},
   "outputs": [],
   "source": []
  }
 ],
 "metadata": {
  "kernelspec": {
   "display_name": "Python 3 (ipykernel)",
   "language": "python",
   "name": "python3"
  },
  "language_info": {
   "codemirror_mode": {
    "name": "ipython",
    "version": 3
   },
   "file_extension": ".py",
   "mimetype": "text/x-python",
   "name": "python",
   "nbconvert_exporter": "python",
   "pygments_lexer": "ipython3",
   "version": "3.10.0"
  }
 },
 "nbformat": 4,
 "nbformat_minor": 5
}
