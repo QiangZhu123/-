{
 "cells": [
  {
   "cell_type": "code",
   "execution_count": 12,
   "id": "0ee04702",
   "metadata": {},
   "outputs": [],
   "source": [
    "\n",
    "#动态（组合）地给一个对象增加一些额外的职责,比继承更加灵活\n",
    "from abc import ABC,abstractmethod\n",
    "class Bot(ABC):\n",
    "    def __init__(self):\n",
    "        pass\n",
    "    \n",
    "    @abstractmethod\n",
    "    def work():\n",
    "        pass\n",
    "\n",
    "class Clean_Bot(Bot):\n",
    "    def __init__(self):\n",
    "        super().__init__()\n",
    "        pass\n",
    "    def work(self):\n",
    "        print('clean')\n",
    "\n",
    "#装饰器\n",
    "class Ohter:\n",
    "    def __init__(self,worker):\n",
    "        self.work=worker\n",
    "    \n",
    "    def work(self):\n",
    "        self.work.work()\n",
    "        self.work.work()\n"
   ]
  },
  {
   "cell_type": "code",
   "execution_count": 13,
   "id": "0bfe96fa",
   "metadata": {},
   "outputs": [],
   "source": [
    "woker=Ohter(Clean_Bot())"
   ]
  },
  {
   "cell_type": "code",
   "execution_count": 14,
   "id": "a26b8971",
   "metadata": {},
   "outputs": [
    {
     "name": "stdout",
     "output_type": "stream",
     "text": [
      "clean\n",
      "clean\n"
     ]
    }
   ],
   "source": [
    "woker.attack()"
   ]
  },
  {
   "cell_type": "code",
   "execution_count": 2,
   "id": "570e4fff",
   "metadata": {},
   "outputs": [
    {
     "name": "stdout",
     "output_type": "stream",
     "text": [
      "具体组件的操作\n",
      "具体装饰器A的操作\n",
      "具体装饰器B的操作\n"
     ]
    }
   ],
   "source": [
    "# 定义抽象组件接口\n",
    "class Component:\n",
    "    def operation(self):\n",
    "        pass\n",
    "\n",
    "# 具体组件\n",
    "class ConcreteComponent(Component):\n",
    "    def operation(self):\n",
    "        print(\"具体组件的操作\")\n",
    "\n",
    "# 抽象装饰器\n",
    "class Decorator(Component):\n",
    "    _component = None\n",
    "    \n",
    "    def __init__(self, component):\n",
    "        self._component = component\n",
    "    \n",
    "    def operation(self):\n",
    "        if self._component:\n",
    "            self._component.operation()\n",
    "\n",
    "# 具体装饰器A\n",
    "class ConcreteDecoratorA(Decorator):\n",
    "    def operation(self):\n",
    "        super().operation()\n",
    "        print(\"具体装饰器A的操作\")\n",
    "\n",
    "# 具体装饰器B\n",
    "class ConcreteDecoratorB(Decorator):\n",
    "    def operation(self):\n",
    "        super().operation()\n",
    "        print(\"具体装饰器B的操作\")\n",
    "\n",
    "\n",
    "# 创建具体组件对象\n",
    "component = ConcreteComponent()\n",
    "# 创建具体装饰器A对象，并传入具体组件对象\n",
    "decoratorA = ConcreteDecoratorA(component)\n",
    "# 创建具体装饰器B对象，并传入具体装饰器A对象\n",
    "decoratorB = ConcreteDecoratorB(decoratorA)\n",
    "# 执行操作\n",
    "decoratorB.operation()\n"
   ]
  },
  {
   "cell_type": "code",
   "execution_count": null,
   "id": "138e818c",
   "metadata": {},
   "outputs": [],
   "source": []
  }
 ],
 "metadata": {
  "kernelspec": {
   "display_name": "Python 3 (ipykernel)",
   "language": "python",
   "name": "python3"
  },
  "language_info": {
   "codemirror_mode": {
    "name": "ipython",
    "version": 3
   },
   "file_extension": ".py",
   "mimetype": "text/x-python",
   "name": "python",
   "nbconvert_exporter": "python",
   "pygments_lexer": "ipython3",
   "version": "3.10.0"
  }
 },
 "nbformat": 4,
 "nbformat_minor": 5
}
