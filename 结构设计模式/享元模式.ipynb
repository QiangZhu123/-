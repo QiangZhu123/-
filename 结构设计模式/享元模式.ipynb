{
 "cells": [
  {
   "cell_type": "code",
   "execution_count": 4,
   "id": "6b45dbdd",
   "metadata": {},
   "outputs": [],
   "source": [
    "#减少需要创建的对象数量，可以重复创建实例，但是可以减少对象\n",
    "#运行共享技术有效地支持大量细粒度的对象。 \n",
    "class Item:\n",
    "    pass\n",
    "\n",
    "class ItemFactory:\n",
    "    def __init__(self):\n",
    "        #保存一个map，里面包含了需要的实例，不是唯一的，区别与单例模式\n",
    "        self.temp={}\n",
    "    def add_item(self,item):\n",
    "        self.temp[item.__class__.__name__]=item\n",
    "    def get_item(self,name):\n",
    "        if name not in self.temp:\n",
    "            return None\n",
    "        return self.temp[name]"
   ]
  },
  {
   "cell_type": "code",
   "execution_count": 5,
   "id": "2aa06298",
   "metadata": {},
   "outputs": [],
   "source": [
    "a = Item()\n",
    "fac=ItemFactory()"
   ]
  },
  {
   "cell_type": "code",
   "execution_count": 6,
   "id": "27a6d3a8",
   "metadata": {},
   "outputs": [],
   "source": [
    "fac.add_item(a)"
   ]
  },
  {
   "cell_type": "code",
   "execution_count": 8,
   "id": "4c712082",
   "metadata": {},
   "outputs": [
    {
     "data": {
      "text/plain": [
       "{'Item': <__main__.Item at 0x2b0bd19b0a0>}"
      ]
     },
     "execution_count": 8,
     "metadata": {},
     "output_type": "execute_result"
    }
   ],
   "source": [
    "fac.temp"
   ]
  },
  {
   "cell_type": "code",
   "execution_count": null,
   "id": "b9b2d225",
   "metadata": {},
   "outputs": [],
   "source": [
    "在设计模式中，享元模式和单例模式有些类似，因为它们都关注对象的创建和复用，\n",
    "但是它们的目的和使用场景略有不同。单例模式的目的是保证一个类只有一个实例，\n",
    "并提供全局访问点；而享元模式的目的是尽可能减少对象的创建，\n",
    "提高系统的性能和内存利用率。在享元模式中，对象的创建和复用都是由工厂类来管理的，\n",
    "而且享元对象本身是可以被共享的，\n",
    "因此可以说享元模式是一种更加细粒度的对象复用机制。"
   ]
  }
 ],
 "metadata": {
  "kernelspec": {
   "display_name": "Python 3 (ipykernel)",
   "language": "python",
   "name": "python3"
  },
  "language_info": {
   "codemirror_mode": {
    "name": "ipython",
    "version": 3
   },
   "file_extension": ".py",
   "mimetype": "text/x-python",
   "name": "python",
   "nbconvert_exporter": "python",
   "pygments_lexer": "ipython3",
   "version": "3.10.0"
  }
 },
 "nbformat": 4,
 "nbformat_minor": 5
}
