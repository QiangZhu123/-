{
 "cells": [
  {
   "cell_type": "code",
   "execution_count": null,
   "id": "7ea69aea",
   "metadata": {},
   "outputs": [],
   "source": [
    "#多聚合的代理处理，解耦系统间\n",
    "#中介者是解耦系统内\n",
    "\n",
    "class A:\n",
    "    def __init__(self):\n",
    "        pass\n",
    "class B:\n",
    "    def __init__(self):\n",
    "        pass\n",
    "class C:\n",
    "    def __init__(self):\n",
    "        pass\n",
    "\n",
    "class Face:\n",
    "    def __init__(self):\n",
    "        self.a=A()\n",
    "        self.b=B()\n",
    "        self.c=C()\n",
    "    def work(self):\n",
    "        self.a\n",
    "        self.b\n",
    "        self.c\n",
    "        "
   ]
  }
 ],
 "metadata": {
  "kernelspec": {
   "display_name": "Python 3 (ipykernel)",
   "language": "python",
   "name": "python3"
  },
  "language_info": {
   "codemirror_mode": {
    "name": "ipython",
    "version": 3
   },
   "file_extension": ".py",
   "mimetype": "text/x-python",
   "name": "python",
   "nbconvert_exporter": "python",
   "pygments_lexer": "ipython3",
   "version": "3.10.0"
  }
 },
 "nbformat": 4,
 "nbformat_minor": 5
}
