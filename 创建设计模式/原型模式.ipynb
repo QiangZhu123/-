{
 "cells": [
  {
   "cell_type": "code",
   "execution_count": 2,
   "id": "3b6a2cc0",
   "metadata": {},
   "outputs": [],
   "source": [
    "#使用原型实例指定创建对象的种类，然后通过拷贝这些原型来创建新的对象\n",
    "import copy\n",
    "class Transformer:\n",
    "    f= set()\n",
    "    def __init__(self):\n",
    "        self.a=1\n",
    "        self.b= 2\n",
    "        self.c= 'ss'\n",
    "    \n",
    "    #克隆任务交给实例自己来处理\n",
    "    #需要考虑浅克隆和深克隆\n",
    "    def clone(self):\n",
    "        #这个可以递归复制，最好用\n",
    "        return copy.deepcopy(self)"
   ]
  },
  {
   "cell_type": "code",
   "execution_count": 3,
   "id": "43386e68",
   "metadata": {},
   "outputs": [],
   "source": [
    "test =Transformer()"
   ]
  },
  {
   "cell_type": "code",
   "execution_count": 4,
   "id": "252a2128",
   "metadata": {},
   "outputs": [],
   "source": [
    "copys = test.clone()"
   ]
  },
  {
   "cell_type": "code",
   "execution_count": 5,
   "id": "c037ab71",
   "metadata": {},
   "outputs": [
    {
     "data": {
      "text/plain": [
       "False"
      ]
     },
     "execution_count": 5,
     "metadata": {},
     "output_type": "execute_result"
    }
   ],
   "source": [
    "#C++中就是new出一个新的实例"
   ]
  },
  {
   "cell_type": "code",
   "execution_count": null,
   "id": "3107852b",
   "metadata": {},
   "outputs": [],
   "source": []
  },
  {
   "cell_type": "code",
   "execution_count": null,
   "id": "dcdb691d",
   "metadata": {},
   "outputs": [],
   "source": []
  },
  {
   "cell_type": "code",
   "execution_count": null,
   "id": "13855aab",
   "metadata": {},
   "outputs": [],
   "source": []
  }
 ],
 "metadata": {
  "kernelspec": {
   "display_name": "Python 3 (ipykernel)",
   "language": "python",
   "name": "python3"
  },
  "language_info": {
   "codemirror_mode": {
    "name": "ipython",
    "version": 3
   },
   "file_extension": ".py",
   "mimetype": "text/x-python",
   "name": "python",
   "nbconvert_exporter": "python",
   "pygments_lexer": "ipython3",
   "version": "3.10.0"
  }
 },
 "nbformat": 4,
 "nbformat_minor": 5
}
