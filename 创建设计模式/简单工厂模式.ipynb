{
 "cells": [
  {
   "cell_type": "code",
   "execution_count": 23,
   "id": "18cc0b88",
   "metadata": {},
   "outputs": [],
   "source": [
    "#产品 \n",
    "class Wood:\n",
    "    \n",
    "    def __init__(self):\n",
    "        self.type='wood'\n",
    "\n",
    "class Zhuozi(Wood):\n",
    "    def __init__(self):\n",
    "        super().__init__()\n",
    "        self.name =self.__class__.__name__\n",
    "class Yizi(Wood):\n",
    "    def __init__(self):\n",
    "        super().__init__()\n",
    "        self.name =self.__class__.__name__"
   ]
  },
  {
   "cell_type": "code",
   "execution_count": 25,
   "id": "9ab88049",
   "metadata": {},
   "outputs": [],
   "source": [
    "#工厂\n",
    "class Factory:\n",
    "    def createP(self,name):\n",
    "        if name =='A':\n",
    "            return Zhuozi()\n",
    "        else:\n",
    "            return Yizi()"
   ]
  },
  {
   "cell_type": "code",
   "execution_count": 27,
   "id": "a9455c67",
   "metadata": {},
   "outputs": [
    {
     "data": {
      "text/plain": [
       "'Zhuozi'"
      ]
     },
     "execution_count": 27,
     "metadata": {},
     "output_type": "execute_result"
    }
   ],
   "source": [
    "gongchang=Factory()\n",
    "pro = gongchang.createP('A')\n",
    "pro.name"
   ]
  },
  {
   "cell_type": "code",
   "execution_count": null,
   "id": "1c58341a",
   "metadata": {},
   "outputs": [],
   "source": []
  },
  {
   "cell_type": "code",
   "execution_count": null,
   "id": "a38ab201",
   "metadata": {},
   "outputs": [],
   "source": []
  },
  {
   "cell_type": "code",
   "execution_count": null,
   "id": "08cc9ce5",
   "metadata": {},
   "outputs": [],
   "source": []
  },
  {
   "cell_type": "code",
   "execution_count": null,
   "id": "c91f9e67",
   "metadata": {},
   "outputs": [],
   "source": []
  },
  {
   "cell_type": "code",
   "execution_count": null,
   "id": "b584b8fa",
   "metadata": {},
   "outputs": [],
   "source": []
  },
  {
   "cell_type": "code",
   "execution_count": null,
   "id": "7836743a",
   "metadata": {},
   "outputs": [],
   "source": []
  }
 ],
 "metadata": {
  "kernelspec": {
   "display_name": "Python 3 (ipykernel)",
   "language": "python",
   "name": "python3"
  },
  "language_info": {
   "codemirror_mode": {
    "name": "ipython",
    "version": 3
   },
   "file_extension": ".py",
   "mimetype": "text/x-python",
   "name": "python",
   "nbconvert_exporter": "python",
   "pygments_lexer": "ipython3",
   "version": "3.10.0"
  }
 },
 "nbformat": 4,
 "nbformat_minor": 5
}
