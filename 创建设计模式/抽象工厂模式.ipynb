{
 "cells": [
  {
   "cell_type": "code",
   "execution_count": 4,
   "id": "8ba4bcf0",
   "metadata": {},
   "outputs": [],
   "source": [
    "from abc import abstractmethod,ABC"
   ]
  },
  {
   "cell_type": "code",
   "execution_count": 5,
   "id": "99706b2c",
   "metadata": {},
   "outputs": [],
   "source": [
    "#产品 提供一个接口，让该接口负责创建一系列”相关或者相互依赖的对象“，无需指定它们具体的类\n",
    "#如果没有应对”多系列对象创建“的需求变化，则没有必要使用Abstract Factory模式，这时候使用简单的工厂即可。\n",
    "class Wood(ABC):\n",
    "    \n",
    "    def __init__(self):\n",
    "        self.type='wood'\n",
    "\n",
    "class Zhuozi(Wood):\n",
    "    def __init__(self):\n",
    "        super().__init__()\n",
    "        self.name =self.__class__.__name__\n",
    "class Yizi(Wood):\n",
    "    def __init__(self):\n",
    "        super().__init__()\n",
    "        self.name =self.__class__.__name__"
   ]
  },
  {
   "cell_type": "code",
   "execution_count": 6,
   "id": "8c9add37",
   "metadata": {},
   "outputs": [],
   "source": [
    "#工厂\n",
    "class Factory(ABC):\n",
    "    @abstractmethod\n",
    "    def createP(self,name):\n",
    "        pass\n",
    "class ZhuoziFac(Factory):\n",
    "    def createP(self):\n",
    "        return Zhuozi()\n",
    "    #def creatOhter(self): 还是有耦合，违背开闭原则\n",
    "    # return newProduct()\n",
    "class YiziFac(Factory):\n",
    "    \n",
    "    def createP(self):\n",
    "        return Yizi()"
   ]
  },
  {
   "cell_type": "code",
   "execution_count": 7,
   "id": "9fe02890",
   "metadata": {},
   "outputs": [],
   "source": [
    "zaozhuozi = ZhuoziFac()\n",
    "zaoyizi = YiziFac()"
   ]
  },
  {
   "cell_type": "code",
   "execution_count": 8,
   "id": "ba969f7b",
   "metadata": {},
   "outputs": [],
   "source": [
    "zhuozi  =zaozhuozi.createP()"
   ]
  },
  {
   "cell_type": "code",
   "execution_count": null,
   "id": "325ae1bc",
   "metadata": {},
   "outputs": [],
   "source": []
  },
  {
   "cell_type": "code",
   "execution_count": null,
   "id": "fdf0fd6f",
   "metadata": {},
   "outputs": [],
   "source": [
    "from abc import ABCMeta, abstractmethod\n",
    "\n",
    "# 抽象产品A\n",
    "class AbstractProductA(metaclass=ABCMeta):\n",
    "    @abstractmethod\n",
    "    def do_something(self):\n",
    "        pass\n",
    "\n",
    "# 具体产品A1\n",
    "class ConcreteProductA1(AbstractProductA):\n",
    "    def do_something(self):\n",
    "        print(\"ConcreteProductA1 do something\")\n",
    "\n",
    "# 具体产品A2\n",
    "class ConcreteProductA2(AbstractProductA):\n",
    "    def do_something(self):\n",
    "        print(\"ConcreteProductA2 do something\")\n",
    "\n",
    "# 抽象产品B\n",
    "class AbstractProductB(metaclass=ABCMeta):\n",
    "    @abstractmethod\n",
    "    def do_something(self):\n",
    "        pass\n",
    "\n",
    "# 具体产品B1\n",
    "class ConcreteProductB1(AbstractProductB):\n",
    "    def do_something(self):\n",
    "        print(\"ConcreteProductB1 do something\")\n",
    "\n",
    "# 具体产品B2\n",
    "class ConcreteProductB2(AbstractProductB):\n",
    "    def do_something(self):\n",
    "        print(\"ConcreteProductB2 do something\")\n",
    "\n",
    "# 抽象工厂\n",
    "class AbstractFactory(metaclass=ABCMeta):\n",
    "    @abstractmethod\n",
    "    def create_product_a(self):\n",
    "        pass\n",
    "\n",
    "    @abstractmethod\n",
    "    def create_product_b(self):\n",
    "        pass\n",
    "\n",
    "# 具体工厂1\n",
    "class ConcreteFactory1(AbstractFactory):\n",
    "    def create_product_a(self):\n",
    "        return ConcreteProductA1()\n",
    "\n",
    "    def create_product_b(self):\n",
    "        return ConcreteProductB1()\n",
    "\n",
    "# 具体工厂2\n",
    "class ConcreteFactory2(AbstractFactory):\n",
    "    def create_product_a(self):\n",
    "        return ConcreteProductA2()\n",
    "\n",
    "    def create_product_b(self):\n",
    "        return ConcreteProductB2()\n",
    "\n",
    "# 客户端\n",
    "def client(factory):\n",
    "    product_a = factory.create_product_a()\n",
    "    product_b = factory.create_product_b()\n",
    "\n",
    "    product_a.do_something()\n",
    "    product_b.do_something()\n",
    "\n",
    "# 使用具体工厂1\n",
    "client(ConcreteFactory1())\n",
    "\n",
    "# 使用具体工厂2\n",
    "client(ConcreteFactory2())\n"
   ]
  },
  {
   "cell_type": "code",
   "execution_count": null,
   "id": "9484cd11",
   "metadata": {},
   "outputs": [],
   "source": []
  }
 ],
 "metadata": {
  "kernelspec": {
   "display_name": "Python 3 (ipykernel)",
   "language": "python",
   "name": "python3"
  },
  "language_info": {
   "codemirror_mode": {
    "name": "ipython",
    "version": 3
   },
   "file_extension": ".py",
   "mimetype": "text/x-python",
   "name": "python",
   "nbconvert_exporter": "python",
   "pygments_lexer": "ipython3",
   "version": "3.10.0"
  }
 },
 "nbformat": 4,
 "nbformat_minor": 5
}
