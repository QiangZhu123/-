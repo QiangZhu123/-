{
 "cells": [
  {
   "cell_type": "code",
   "execution_count": 33,
   "id": "8c562723",
   "metadata": {},
   "outputs": [],
   "source": [
    "class Test:\n",
    "    a = 1\n",
    "    b= 2\n",
    "    c= 2\n",
    "    def __new__(cls):\n",
    "        if '_inst' not in  vars(cls):\n",
    "            cls._inst=super().__new__(cls)\n",
    "        return cls._inst\n",
    "    def __init__(self):\n",
    "        self.d = 3\n",
    "    \n",
    "    def myfunc(self):\n",
    "        return self.a\n",
    "    @classmethod\n",
    "    def fucn(cls):\n",
    "        return cls.d\n",
    "    \n",
    "    @staticmethod\n",
    "    def ffff():\n",
    "        return 5\n",
    "    "
   ]
  },
  {
   "cell_type": "code",
   "execution_count": null,
   "id": "7d568c78",
   "metadata": {},
   "outputs": [],
   "source": []
  },
  {
   "cell_type": "code",
   "execution_count": 1,
   "id": "59289fed",
   "metadata": {},
   "outputs": [],
   "source": [
    "class Borg:\n",
    "    _shared_state= {}\n",
    "\n",
    "    def __init__(self):\n",
    "        self.__dict__ = self._shared_state\n",
    "\n",
    "\n",
    "class YourBorg(Borg):\n",
    "    def __init__(self, state: str = None):\n",
    "        super().__init__()\n",
    "        if state:\n",
    "            self.state = state\n",
    "        else:\n",
    "\n",
    "            if not hasattr(self, \"state\"):\n",
    "                self.state = \"Init\"\n",
    "\n",
    "    def __str__(self):\n",
    "        return self.state"
   ]
  },
  {
   "cell_type": "code",
   "execution_count": 2,
   "id": "58680fcc",
   "metadata": {},
   "outputs": [],
   "source": [
    "test =YourBorg()\n",
    "one = YourBorg()"
   ]
  },
  {
   "cell_type": "code",
   "execution_count": 3,
   "id": "41791c98",
   "metadata": {},
   "outputs": [
    {
     "data": {
      "text/plain": [
       "False"
      ]
     },
     "execution_count": 3,
     "metadata": {},
     "output_type": "execute_result"
    }
   ],
   "source": [
    "test == one"
   ]
  },
  {
   "cell_type": "code",
   "execution_count": 4,
   "id": "f3434aa5",
   "metadata": {},
   "outputs": [
    {
     "data": {
      "text/plain": [
       "2472270205024"
      ]
     },
     "execution_count": 4,
     "metadata": {},
     "output_type": "execute_result"
    }
   ],
   "source": [
    "id(test)"
   ]
  },
  {
   "cell_type": "code",
   "execution_count": 5,
   "id": "391a06af",
   "metadata": {},
   "outputs": [
    {
     "data": {
      "text/plain": [
       "2472270204976"
      ]
     },
     "execution_count": 5,
     "metadata": {},
     "output_type": "execute_result"
    }
   ],
   "source": [
    "id(one)"
   ]
  },
  {
   "cell_type": "code",
   "execution_count": 25,
   "id": "d94bb105",
   "metadata": {},
   "outputs": [],
   "source": [
    "class A:\n",
    "    \n",
    "    def __new__(cls):\n",
    "        if '_inst' not in vars(cls):\n",
    "            cls._inst=super().__new__(cls)\n",
    "        return cls._inst"
   ]
  },
  {
   "cell_type": "code",
   "execution_count": 26,
   "id": "1f9d6555",
   "metadata": {},
   "outputs": [],
   "source": [
    "a=A()"
   ]
  },
  {
   "cell_type": "code",
   "execution_count": 27,
   "id": "4eedddd6",
   "metadata": {},
   "outputs": [],
   "source": [
    "b=A()"
   ]
  },
  {
   "cell_type": "code",
   "execution_count": 28,
   "id": "6de224f1",
   "metadata": {},
   "outputs": [
    {
     "data": {
      "text/plain": [
       "True"
      ]
     },
     "execution_count": 28,
     "metadata": {},
     "output_type": "execute_result"
    }
   ],
   "source": [
    "id(a)==id(b)"
   ]
  },
  {
   "cell_type": "code",
   "execution_count": 30,
   "id": "ce7b882e",
   "metadata": {},
   "outputs": [
    {
     "data": {
      "text/plain": [
       "mappingproxy({'__module__': '__main__',\n",
       "              '__new__': <staticmethod(<function A.__new__ at 0x0000023F9F51CE50>)>,\n",
       "              '__dict__': <attribute '__dict__' of 'A' objects>,\n",
       "              '__weakref__': <attribute '__weakref__' of 'A' objects>,\n",
       "              '__doc__': None,\n",
       "              '_inst': <__main__.A at 0x23f9f87d900>})"
      ]
     },
     "execution_count": 30,
     "metadata": {},
     "output_type": "execute_result"
    }
   ],
   "source": [
    "vars(A)"
   ]
  },
  {
   "cell_type": "code",
   "execution_count": null,
   "id": "b97aae7f",
   "metadata": {},
   "outputs": [],
   "source": []
  },
  {
   "cell_type": "code",
   "execution_count": null,
   "id": "6baa07ec",
   "metadata": {},
   "outputs": [],
   "source": []
  }
 ],
 "metadata": {
  "kernelspec": {
   "display_name": "Python 3 (ipykernel)",
   "language": "python",
   "name": "python3"
  },
  "language_info": {
   "codemirror_mode": {
    "name": "ipython",
    "version": 3
   },
   "file_extension": ".py",
   "mimetype": "text/x-python",
   "name": "python",
   "nbconvert_exporter": "python",
   "pygments_lexer": "ipython3",
   "version": "3.10.0"
  }
 },
 "nbformat": 4,
 "nbformat_minor": 5
}
