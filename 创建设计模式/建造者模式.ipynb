{
 "cells": [
  {
   "cell_type": "code",
   "execution_count": 3,
   "id": "5333f9e8",
   "metadata": {},
   "outputs": [],
   "source": [
    "#将一个复杂对象的构建与其表示相分离，使得同样的构建过程(稳定)可以创建不同的表示(变化)。\n",
    "\n",
    "class House:\n",
    "    pass\n",
    "class HouseBuilder:\n",
    "    def __init__(self):\n",
    "        self.house = House()\n",
    "    def f1(self):pass\n",
    "    def f2(self):pass\n",
    "    def f3(self):pass\n",
    "class HouseDirect:\n",
    "    def __init__(self):\n",
    "        self.builder=HouseBuilder()\n",
    "    def build(self):\n",
    "        self.builder.f1()\n",
    "        self.builder.f2()\n",
    "        self.builder.f3()\n",
    "house = HouseDirect()"
   ]
  },
  {
   "cell_type": "code",
   "execution_count": 4,
   "id": "4a070e75",
   "metadata": {},
   "outputs": [],
   "source": [
    "house.build()"
   ]
  },
  {
   "cell_type": "code",
   "execution_count": null,
   "id": "cd0ea6f6",
   "metadata": {},
   "outputs": [],
   "source": []
  }
 ],
 "metadata": {
  "kernelspec": {
   "display_name": "Python 3 (ipykernel)",
   "language": "python",
   "name": "python3"
  },
  "language_info": {
   "codemirror_mode": {
    "name": "ipython",
    "version": 3
   },
   "file_extension": ".py",
   "mimetype": "text/x-python",
   "name": "python",
   "nbconvert_exporter": "python",
   "pygments_lexer": "ipython3",
   "version": "3.10.0"
  }
 },
 "nbformat": 4,
 "nbformat_minor": 5
}
