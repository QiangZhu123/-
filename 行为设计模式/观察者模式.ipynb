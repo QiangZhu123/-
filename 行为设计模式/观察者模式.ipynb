{
 "cells": [
  {
   "cell_type": "code",
   "execution_count": 1,
   "id": "ad9bdbfc",
   "metadata": {},
   "outputs": [],
   "source": [
    "#数据类作为被观察者，自己保存了所有的观察者，每次他会更新所有观察者信息\n",
    "#定义对象间的一种一对多（变化）的依赖关系，以便当一个对象(Subject)的状态发生改变时，\n",
    "#所有依赖于它的对象都得到通知并自动更新\n",
    "class Data:\n",
    "    def __init__(self,a,b,c=1):\n",
    "        self.a=a\n",
    "        self.b=b\n",
    "        self.c= c\n",
    "        self.observer=set()\n",
    "    def add_observe(self,obs):\n",
    "        self.observer.add(obs)\n",
    "    def remove(self,obs):\n",
    "        self.observer.discard(obs)\n",
    "    def update(self):\n",
    "        for a in self.observer:\n",
    "            a.update(self.a,self.b,self.c)\n",
    "    def setvalue(self,a,b,c):\n",
    "        #只要内容变化，就要通知所有的观察者进行变化\n",
    "        self.a=a\n",
    "        \n",
    "        self.b=b\n",
    "        self.c=c\n",
    "        self.update()\n",
    "class Observer:\n",
    "    def __init__(self,data):\n",
    "\n",
    "        self.data=data\n",
    "    def register(self,data):\n",
    "        self.data.observer.add(self)\n",
    "    def update(self,a,b,c):\n",
    "        self.a=a\n",
    "        self.b=b\n",
    "        self.c=c\n",
    "        \n"
   ]
  },
  {
   "cell_type": "code",
   "execution_count": null,
   "id": "d535e87c",
   "metadata": {},
   "outputs": [],
   "source": []
  }
 ],
 "metadata": {
  "kernelspec": {
   "display_name": "Python 3 (ipykernel)",
   "language": "python",
   "name": "python3"
  },
  "language_info": {
   "codemirror_mode": {
    "name": "ipython",
    "version": 3
   },
   "file_extension": ".py",
   "mimetype": "text/x-python",
   "name": "python",
   "nbconvert_exporter": "python",
   "pygments_lexer": "ipython3",
   "version": "3.10.0"
  }
 },
 "nbformat": 4,
 "nbformat_minor": 5
}
