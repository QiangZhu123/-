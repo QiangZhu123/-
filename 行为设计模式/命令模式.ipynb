{
 "cells": [
  {
   "cell_type": "code",
   "execution_count": null,
   "id": "2acb5d22",
   "metadata": {},
   "outputs": [],
   "source": [
    "#调用者和接收者解耦"
   ]
  },
  {
   "cell_type": "code",
   "execution_count": 1,
   "id": "d0a83b9f",
   "metadata": {},
   "outputs": [],
   "source": [
    "from abc import ABC,abstractmethod\n",
    "#按键的命令\n",
    "#点菜\n",
    "#将一个请求(行为)封装成一个对象，根本目的在于将”行为请求者“与”行为实现者“解耦\n",
    "#从而使你可用不用的请求对客户进行参数化；对请求排队或记录请求日志，以及支持可撤销的操作。\n",
    "class Command:\n",
    "    \n",
    "    @abstractmethod\n",
    "    def excute(self):\n",
    "        pass\n",
    "    @abstractmethod\n",
    "    def undo(self):\n",
    "        pass\n",
    "\n",
    "class DeleteCommand(Command):\n",
    "    def __init__(self):\n",
    "        super().__init__()\n",
    "    def excute(self):\n",
    "        print('done')\n",
    "    def undo(self):\n",
    "        print('reverse')\n",
    "class AddCommand(Command):\n",
    "    def __init__(self):\n",
    "        super().__init__()\n",
    "    def excute(self):\n",
    "        print('adddone')\n",
    "    def undo(self):\n",
    "        print('addreverse')\n"
   ]
  },
  {
   "cell_type": "code",
   "execution_count": 2,
   "id": "a768bee9",
   "metadata": {},
   "outputs": [],
   "source": [
    "class BaseCommend:\n",
    "    def __init__(self):\n",
    "        self.order=[]\n",
    "    def excute(self):\n",
    "        for a in self.order:\n",
    "            a.excute()\n",
    "    def add_order(self,comm):\n",
    "        self.order.append(comm)"
   ]
  },
  {
   "cell_type": "code",
   "execution_count": 4,
   "id": "258fc6e7",
   "metadata": {},
   "outputs": [
    {
     "name": "stdout",
     "output_type": "stream",
     "text": [
      "adddone\n",
      "adddone\n",
      "done\n"
     ]
    }
   ],
   "source": [
    "s1=AddCommand()\n",
    "s2=AddCommand()\n",
    "s3=DeleteCommand()\n",
    "base=BaseCommend()\n",
    "base.add_order(s1)\n",
    "base.add_order(s2)\n",
    "base.add_order(s3)\n",
    "base.excute()"
   ]
  },
  {
   "cell_type": "code",
   "execution_count": 1,
   "id": "e1ce44d7",
   "metadata": {},
   "outputs": [
    {
     "name": "stdout",
     "output_type": "stream",
     "text": [
      "Receiver action\n"
     ]
    }
   ],
   "source": [
    "# 命令接口\n",
    "class Command:\n",
    "    def execute(self):\n",
    "        pass\n",
    "\n",
    "# 具体命令\n",
    "class ConcreteCommand(Command):\n",
    "    def __init__(self, receiver):\n",
    "        self.receiver = receiver\n",
    "\n",
    "    def execute(self):\n",
    "        self.receiver.action()\n",
    "\n",
    "# 接收者\n",
    "class Receiver:\n",
    "    def action(self):\n",
    "        print(\"Receiver action\")\n",
    "\n",
    "# 调用者\n",
    "class Invoker:\n",
    "    def set_command(self, command):\n",
    "        self.command = command\n",
    "\n",
    "    def execute_command(self):\n",
    "        self.command.execute()\n",
    "\n",
    "# 测试代码\n",
    "receiver = Receiver()\n",
    "command = ConcreteCommand(receiver)\n",
    "invoker = Invoker()\n",
    "invoker.set_command(command)\n",
    "invoker.execute_command()\n"
   ]
  },
  {
   "cell_type": "code",
   "execution_count": null,
   "id": "9bd14fca",
   "metadata": {},
   "outputs": [],
   "source": []
  }
 ],
 "metadata": {
  "kernelspec": {
   "display_name": "Python 3 (ipykernel)",
   "language": "python",
   "name": "python3"
  },
  "language_info": {
   "codemirror_mode": {
    "name": "ipython",
    "version": 3
   },
   "file_extension": ".py",
   "mimetype": "text/x-python",
   "name": "python",
   "nbconvert_exporter": "python",
   "pygments_lexer": "ipython3",
   "version": "3.10.0"
  }
 },
 "nbformat": 4,
 "nbformat_minor": 5
}
