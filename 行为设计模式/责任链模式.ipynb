{
 "cells": [
  {
   "cell_type": "code",
   "execution_count": 1,
   "id": "ef050480",
   "metadata": {},
   "outputs": [],
   "source": [
    "from abc import ABC,abstractmethod"
   ]
  },
  {
   "cell_type": "code",
   "execution_count": 6,
   "id": "fdfc6c6a",
   "metadata": {},
   "outputs": [],
   "source": [
    "class AbstractHandle(ABC):\n",
    "    '''\n",
    "    使多个对象都有机会处理请求，从而避免请求的发送者和接收者之间的耦合关系。\n",
    "    将这些对象连成一条链，并沿着这条链传递请求，直到有一个对象处理它为止。\n",
    "    \n",
    "    一个请求可能有多个接受者，但是最后真正的接受者只有一个\n",
    "    抽象基类，子类实现当前节点应该做哪些工作\n",
    "    如果需要，就去其next_handle继续执行工作\n",
    "    '''\n",
    "    def __init__(self,nexts=None):\n",
    "        super().__init__()\n",
    "        #初始化给定下一个节点是什么\n",
    "        self.next_handle = nexts\n",
    "    \n",
    "    def do_handle(self):\n",
    "        print('done work')\n",
    "        self.func()\n",
    "        #如果需要，去下一个节点继续做，下一个节点可能是另外一个handle类\n",
    "        if self.next_handle:\n",
    "            self.next_handle.do_handle()\n",
    "    @abstractmethod\n",
    "    def func(self):\n",
    "        #该节点应该做哪些工作\n",
    "        pass\n",
    "class BankHandle(AbstractHandle):\n",
    "    #子类，需要给定其执行的工作内容\n",
    "    def func(self):\n",
    "        print('bank')\n",
    "    "
   ]
  },
  {
   "cell_type": "code",
   "execution_count": 7,
   "id": "0d3f6929",
   "metadata": {},
   "outputs": [],
   "source": [
    "#类似链表，实例化并把每个实例的next节点指定\n",
    "h1=BankHandle()\n",
    "h2=BankHandle(h1)\n",
    "h3=BankHandle(h2)\n"
   ]
  },
  {
   "cell_type": "code",
   "execution_count": null,
   "id": "4f52a98a",
   "metadata": {},
   "outputs": [],
   "source": []
  }
 ],
 "metadata": {
  "kernelspec": {
   "display_name": "Python 3 (ipykernel)",
   "language": "python",
   "name": "python3"
  },
  "language_info": {
   "codemirror_mode": {
    "name": "ipython",
    "version": 3
   },
   "file_extension": ".py",
   "mimetype": "text/x-python",
   "name": "python",
   "nbconvert_exporter": "python",
   "pygments_lexer": "ipython3",
   "version": "3.10.0"
  }
 },
 "nbformat": 4,
 "nbformat_minor": 5
}
