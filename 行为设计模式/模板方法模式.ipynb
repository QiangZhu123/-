{
 "cells": [
  {
   "cell_type": "code",
   "execution_count": 5,
   "id": "e7964041",
   "metadata": {},
   "outputs": [],
   "source": [
    "#模板方法是主干，基本方法是组件，主干控制组件的调用顺序，子类要具体化基本方法。主干不能再修改（做菜）\n",
    "#定义一个操作中的算法的骨架 (稳定) ，而将一些步骤延迟 (变化) 到子类中。 \n",
    "#Template Method使得子类可以不改变(复用)一个算法的结构即可重定义(override 重写)该算法的 某些特定步骤\n",
    "from abc import ABC,abstractmethod\n",
    "\n",
    "class Work:\n",
    "    \n",
    "    def func(self):\n",
    "        self.a()\n",
    "        self.b()\n",
    "        self.c()\n",
    "    @abstractmethod\n",
    "    def a(self):\n",
    "        pass\n",
    "    @abstractmethod\n",
    "    def b(self):\n",
    "        pass\n",
    "    @abstractmethod\n",
    "    def c(self):\n",
    "        pass\n",
    "    \n",
    "\n",
    "class Mywork(Work):\n",
    "    \n",
    "    def a(self):\n",
    "        pass\n",
    "    def b(self):\n",
    "        pass\n",
    "    def c(self):\n",
    "        pass\n",
    "        "
   ]
  },
  {
   "cell_type": "code",
   "execution_count": 6,
   "id": "e5ef9626",
   "metadata": {},
   "outputs": [],
   "source": [
    "work = Mywork()"
   ]
  },
  {
   "cell_type": "code",
   "execution_count": 7,
   "id": "34360354",
   "metadata": {},
   "outputs": [],
   "source": [
    "work.func()"
   ]
  },
  {
   "cell_type": "code",
   "execution_count": null,
   "id": "043ab422",
   "metadata": {},
   "outputs": [],
   "source": [
    "#模板方法的函数实现形式\n",
    "\n",
    "#所有的组件函数\n",
    "def get_text() -> str:\n",
    "    return \"plain-text\"\n",
    "\n",
    "def get_pdf() -> str:\n",
    "    return \"pdf\"\n",
    "\n",
    "\n",
    "def get_csv() -> str:\n",
    "    return \"csv\"\n",
    "\n",
    "\n",
    "def convert_to_text(data: str) -> str:\n",
    "    print(\"[CONVERT]\")\n",
    "    return f\"{data} as text\"\n",
    "\n",
    "\n",
    "def saver() -> None:\n",
    "    print(\"[SAVE]\")\n",
    "\n",
    "\n",
    "#主干，把所有的函数当作参数传递进来，按照给定顺序来执行\n",
    "def template_function(getter, converter=False, to_save=False) -> None:\n",
    "    data = getter()\n",
    "    print(f\"Got `{data}`\")\n",
    "\n",
    "    if len(data) <= 3 and converter:\n",
    "        data = converter(data)\n",
    "    else:\n",
    "        print(\"Skip conversion\")\n",
    "\n",
    "    if to_save:\n",
    "        saver()\n",
    "\n",
    "    print(f\"`{data}` was processed\")\n"
   ]
  }
 ],
 "metadata": {
  "kernelspec": {
   "display_name": "Python 3 (ipykernel)",
   "language": "python",
   "name": "python3"
  },
  "language_info": {
   "codemirror_mode": {
    "name": "ipython",
    "version": 3
   },
   "file_extension": ".py",
   "mimetype": "text/x-python",
   "name": "python",
   "nbconvert_exporter": "python",
   "pygments_lexer": "ipython3",
   "version": "3.10.0"
  }
 },
 "nbformat": 4,
 "nbformat_minor": 5
}
