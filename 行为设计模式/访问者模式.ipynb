{
 "cells": [
  {
   "cell_type": "code",
   "execution_count": 1,
   "id": "d0ed7b64",
   "metadata": {},
   "outputs": [],
   "source": [
    "#常规的定义模式\n",
    "#在家给宠物喂食\n",
    "#访问者模式的核心思想是：将数据结构和操作分离。\n",
    "#具体来说，就是将数据结构封装在被访问者中，而将具体操作封装在访问者中。\n",
    "class Pet:\n",
    "    def __init__(self,name):\n",
    "        self.name=name\n",
    "class Dog(Pet):\n",
    "    def __init__(self,name):\n",
    "        super().__init__(name)\n",
    "    def eat(self,host):\n",
    "        host.feedcat(self)\n",
    "class Cat(Pet):\n",
    "    def __init__(self,name):\n",
    "        super().__init__(name)\n",
    "    def eat(self,host):\n",
    "        host.feeddog(self)\n",
    "        \n",
    "class Host:\n",
    "    def feeddog(self,pet):\n",
    "        print('dog')\n",
    "    def feedcat(self,pet):\n",
    "        print('cat')\n"
   ]
  },
  {
   "cell_type": "code",
   "execution_count": 3,
   "id": "04589470",
   "metadata": {},
   "outputs": [
    {
     "name": "stdout",
     "output_type": "stream",
     "text": [
      "dog\n"
     ]
    }
   ],
   "source": [
    "pet = Cat('lili')\n",
    "you=Host()\n",
    "pet.eat(you)"
   ]
  },
  {
   "cell_type": "code",
   "execution_count": null,
   "id": "a7a99a27",
   "metadata": {},
   "outputs": [],
   "source": []
  },
  {
   "cell_type": "code",
   "execution_count": null,
   "id": "7f15c1a9",
   "metadata": {},
   "outputs": [],
   "source": []
  },
  {
   "cell_type": "code",
   "execution_count": null,
   "id": "f683726a",
   "metadata": {},
   "outputs": [],
   "source": []
  },
  {
   "cell_type": "code",
   "execution_count": null,
   "id": "c4d0fce9",
   "metadata": {},
   "outputs": [],
   "source": []
  }
 ],
 "metadata": {
  "kernelspec": {
   "display_name": "Python 3 (ipykernel)",
   "language": "python",
   "name": "python3"
  },
  "language_info": {
   "codemirror_mode": {
    "name": "ipython",
    "version": 3
   },
   "file_extension": ".py",
   "mimetype": "text/x-python",
   "name": "python",
   "nbconvert_exporter": "python",
   "pygments_lexer": "ipython3",
   "version": "3.10.0"
  }
 },
 "nbformat": 4,
 "nbformat_minor": 5
}
