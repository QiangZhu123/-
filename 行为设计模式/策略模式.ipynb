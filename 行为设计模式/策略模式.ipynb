{
 "cells": [
  {
   "cell_type": "code",
   "execution_count": 4,
   "id": "89523b75",
   "metadata": {},
   "outputs": [],
   "source": [
    "#将算法封装，只实现算法的使用，替换if-else，\n",
    "#类似状态模式，但是关注点在于具体行为如何实现，没有状态\n",
    "#含有许多条件判断语句的代码通常都需要Strategy模式\n",
    "class Order:\n",
    "    def __init__(self,value,algo=None):\n",
    "        self.value = value\n",
    "        self.algo=algo\n",
    "    \n",
    "    def apply_algo(self):\n",
    "        return self.algo(self.value)\n",
    "\n",
    "def func1(x):\n",
    "    return x\n",
    "def func2(x):\n",
    "    return x+1\n",
    "\n"
   ]
  },
  {
   "cell_type": "code",
   "execution_count": 5,
   "id": "a45dd83f",
   "metadata": {},
   "outputs": [],
   "source": [
    "test = Order(10,func1)\n"
   ]
  },
  {
   "cell_type": "code",
   "execution_count": 6,
   "id": "4715ae68",
   "metadata": {},
   "outputs": [
    {
     "data": {
      "text/plain": [
       "10"
      ]
     },
     "execution_count": 6,
     "metadata": {},
     "output_type": "execute_result"
    }
   ],
   "source": [
    "test.apply_algo()"
   ]
  },
  {
   "cell_type": "code",
   "execution_count": null,
   "id": "6e916fa4",
   "metadata": {},
   "outputs": [],
   "source": [
    "from abc import ABC, abstractmethod\n",
    "\n",
    "class TravelStrategy(ABC):\n",
    "    @abstractmethod\n",
    "    def travel(self):\n",
    "        pass\n",
    "\n",
    "class WalkStrategy(TravelStrategy):\n",
    "    def travel(self):\n",
    "        print(\"I'm walking...\")\n",
    "\n",
    "class BikeStrategy(TravelStrategy):\n",
    "    def travel(self):\n",
    "        print(\"I'm biking...\")\n",
    "\n",
    "class CarStrategy(TravelStrategy):\n",
    "    def travel(self):\n",
    "        print(\"I'm driving...\")\n",
    "\n",
    "class Context:\n",
    "    def __init__(self, strategy: TravelStrategy):\n",
    "        self.strategy = strategy\n",
    "\n",
    "    def set_strategy(self, strategy: TravelStrategy):\n",
    "        self.strategy = strategy\n",
    "\n",
    "    def travel(self):\n",
    "        self.strategy.travel()\n",
    "\n",
    "context = Context(WalkStrategy())\n",
    "context.travel()  # output: I'm walking...\n",
    "context.set_strategy(BikeStrategy())\n",
    "context.travel()  # output: I'm biking...\n",
    "context.set_strategy(CarStrategy())\n",
    "context.travel()  # output: I'm driving...\n"
   ]
  }
 ],
 "metadata": {
  "kernelspec": {
   "display_name": "Python 3 (ipykernel)",
   "language": "python",
   "name": "python3"
  },
  "language_info": {
   "codemirror_mode": {
    "name": "ipython",
    "version": 3
   },
   "file_extension": ".py",
   "mimetype": "text/x-python",
   "name": "python",
   "nbconvert_exporter": "python",
   "pygments_lexer": "ipython3",
   "version": "3.10.0"
  }
 },
 "nbformat": 4,
 "nbformat_minor": 5
}
