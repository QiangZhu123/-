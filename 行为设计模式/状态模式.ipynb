{
 "cells": [
  {
   "cell_type": "code",
   "execution_count": 1,
   "id": "b4e5841c",
   "metadata": {},
   "outputs": [],
   "source": [
    "#状态变化，对象执行方法也变化，理解为任务版的工厂模式\n",
    "#允许一个对象在其内部状态改变时改变它的行为。从而使对象看起来似乎修改了其行为，与Strategy模式类似\n",
    "\n",
    "#State模式将所有与一个特定状态相关的行为都放入一个State的子对象中，在对象状态切换时，切换相应的对象；\n",
    "#但同时维持State的接口，这样实现了具体操作与状态转换之间的解耦。\n"
   ]
  },
  {
   "cell_type": "code",
   "execution_count": null,
   "id": "df08cbde",
   "metadata": {},
   "outputs": [],
   "source": [
    "from abc import ABC, abstractmethod\n",
    "\n",
    "# 抽象状态类\n",
    "class PlayerState(ABC):\n",
    "    @abstractmethod\n",
    "    def update(self):\n",
    "        pass\n",
    "\n",
    "# 空闲状态\n",
    "class IdleState(PlayerState):\n",
    "    def update(self):\n",
    "        print(\"Player is idle...\")\n",
    "\n",
    "# 行走状态\n",
    "class WalkState(PlayerState):\n",
    "    def update(self):\n",
    "        print(\"Player is walking...\")\n",
    "\n",
    "# 攻击状态\n",
    "class AttackState(PlayerState):\n",
    "    def update(self):\n",
    "        print(\"Player is attacking...\")\n",
    "\n",
    "# 玩家角色类\n",
    "class Player:\n",
    "    def __init__(self):\n",
    "        self.current_state = None\n",
    "\n",
    "    def set_state(self, state):\n",
    "        self.current_state = state\n",
    "\n",
    "    def update(self):\n",
    "        self.current_state.update()\n",
    "\n",
    "# 测试\n",
    "player = Player()\n",
    "player.set_state(IdleState())\n",
    "player.update() # Player is idle...\n",
    "\n",
    "player.set_state(WalkState())\n",
    "player.update() # Player is walking...\n",
    "\n",
    "player.set_state(AttackState())\n",
    "player.update() # Player is attacking...\n"
   ]
  }
 ],
 "metadata": {
  "kernelspec": {
   "display_name": "Python 3 (ipykernel)",
   "language": "python",
   "name": "python3"
  },
  "language_info": {
   "codemirror_mode": {
    "name": "ipython",
    "version": 3
   },
   "file_extension": ".py",
   "mimetype": "text/x-python",
   "name": "python",
   "nbconvert_exporter": "python",
   "pygments_lexer": "ipython3",
   "version": "3.10.0"
  }
 },
 "nbformat": 4,
 "nbformat_minor": 5
}
