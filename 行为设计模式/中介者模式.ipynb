{
 "cells": [
  {
   "cell_type": "code",
   "execution_count": 1,
   "id": "9791e983",
   "metadata": {},
   "outputs": [
    {
     "name": "stdout",
     "output_type": "stream",
     "text": [
      "Sending message...\n",
      "Receiving message...\n"
     ]
    }
   ],
   "source": [
    "#将多个对象间发杂的关联关系解耦\n",
    "#Facade模式是解耦系统间(单向)的对象关联关系；Mediator模式是解耦系统内各个对象之间(双向)的关联关系。\n",
    "#用一个中介对象来封装(封装变化)一系列的对象交互。中介者使各对象不需要显式的相互引用(编译时依赖->运行时依赖)， \n",
    "#从而使其耦合松散(管理变化)，并且可以独立地改变它们之间的交互\n",
    "\n",
    "class Mediator:\n",
    "    def __init__(self):\n",
    "        self.components = []\n",
    "\n",
    "    def add_component(self, component):\n",
    "        self.components.append(component)\n",
    "\n",
    "    def notify(self, sender):\n",
    "        for component in self.components:\n",
    "            if component != sender:\n",
    "                component.receive()\n",
    "\n",
    "\n",
    "class Component:\n",
    "    def __init__(self, mediator):\n",
    "        self.mediator = mediator\n",
    "\n",
    "    def send(self):\n",
    "        print(\"Sending message...\")\n",
    "        self.mediator.notify(self)\n",
    "\n",
    "    def receive(self):\n",
    "        print(\"Receiving message...\")\n",
    "\n",
    "\n",
    "mediator = Mediator()\n",
    "\n",
    "comp1 = Component(mediator)\n",
    "comp2 = Component(mediator)\n",
    "\n",
    "mediator.add_component(comp1)\n",
    "mediator.add_component(comp2)\n",
    "\n",
    "comp1.send()\n"
   ]
  },
  {
   "cell_type": "code",
   "execution_count": null,
   "id": "f5073338",
   "metadata": {},
   "outputs": [],
   "source": []
  },
  {
   "cell_type": "code",
   "execution_count": null,
   "id": "c95dda7b",
   "metadata": {},
   "outputs": [],
   "source": []
  },
  {
   "cell_type": "code",
   "execution_count": null,
   "id": "3e595d3b",
   "metadata": {},
   "outputs": [],
   "source": []
  },
  {
   "cell_type": "code",
   "execution_count": null,
   "id": "9c0b6945",
   "metadata": {},
   "outputs": [],
   "source": []
  },
  {
   "cell_type": "code",
   "execution_count": null,
   "id": "b976ad4f",
   "metadata": {},
   "outputs": [],
   "source": []
  }
 ],
 "metadata": {
  "kernelspec": {
   "display_name": "Python 3 (ipykernel)",
   "language": "python",
   "name": "python3"
  },
  "language_info": {
   "codemirror_mode": {
    "name": "ipython",
    "version": 3
   },
   "file_extension": ".py",
   "mimetype": "text/x-python",
   "name": "python",
   "nbconvert_exporter": "python",
   "pygments_lexer": "ipython3",
   "version": "3.10.0"
  }
 },
 "nbformat": 4,
 "nbformat_minor": 5
}
