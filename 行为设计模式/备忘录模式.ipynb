{
 "cells": [
  {
   "cell_type": "code",
   "execution_count": 1,
   "id": "6a4a9d42",
   "metadata": {},
   "outputs": [],
   "source": [
    "#在不破坏封装性的前提下，捕获一个对象的内部状态，并在该对象之外保存这个状态。\n",
    "#这样以后就可以将该对象恢复到原先保存的状态\n",
    "class Memento:\n",
    "    def __init__(self,state):\n",
    "        self.state=state\n",
    "    \n",
    "    def get_state(self):\n",
    "        return self.state\n",
    "    def set_state(self,state):\n",
    "        self.state= state\n",
    "    \n",
    "    \n",
    "class Originer:\n",
    "    state=0\n",
    "    def __init__(self):\n",
    "        pass\n",
    "    \n",
    "    def creat_memo(self):\n",
    "        return Memento(self.state)\n",
    "    def set_memo(self,memo):\n",
    "        self.state=memo.get_state()\n",
    "    \n",
    "    def change(self):\n",
    "        print('change')"
   ]
  },
  {
   "cell_type": "code",
   "execution_count": 2,
   "id": "aed79d52",
   "metadata": {},
   "outputs": [
    {
     "name": "stdout",
     "output_type": "stream",
     "text": [
      "change\n"
     ]
    }
   ],
   "source": [
    "test =Originer()\n",
    "memo = test.creat_memo()\n",
    "test.change()\n",
    "test.set_memo(memo)"
   ]
  },
  {
   "cell_type": "code",
   "execution_count": null,
   "id": "7ca808d1",
   "metadata": {},
   "outputs": [],
   "source": []
  }
 ],
 "metadata": {
  "kernelspec": {
   "display_name": "Python 3 (ipykernel)",
   "language": "python",
   "name": "python3"
  },
  "language_info": {
   "codemirror_mode": {
    "name": "ipython",
    "version": 3
   },
   "file_extension": ".py",
   "mimetype": "text/x-python",
   "name": "python",
   "nbconvert_exporter": "python",
   "pygments_lexer": "ipython3",
   "version": "3.10.0"
  }
 },
 "nbformat": 4,
 "nbformat_minor": 5
}
